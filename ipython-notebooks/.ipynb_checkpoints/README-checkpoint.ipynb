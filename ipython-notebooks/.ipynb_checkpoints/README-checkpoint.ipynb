{
 "metadata": {
  "name": "",
  "signature": "sha256:7f5e8884ccc29fab37560f970f036e0fc24bcc7b5f5e4429f57e5a5f1ceb91c1"
 },
 "nbformat": 3,
 "nbformat_minor": 0,
 "worksheets": [
  {
   "cells": [
    {
     "cell_type": "markdown",
     "metadata": {},
     "source": [
      "## Review of Interesting IPython Notebooks\n",
      "\n",
      "- [URL](https://github.com/ipython/ipython/wiki/A-gallery-of-interesting-IPython-Notebooks#programming-and-computer-science)"
     ]
    }
   ],
   "metadata": {}
  }
 ]
}