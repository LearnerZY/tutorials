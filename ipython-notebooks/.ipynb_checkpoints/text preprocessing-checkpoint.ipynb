{
 "metadata": {
  "name": "",
  "signature": "sha256:4f54fd3cbcd35ff7d50d0c9c07ce06af887636253c6cb0f2cdaaf3137c060729"
 },
 "nbformat": 3,
 "nbformat_minor": 0,
 "worksheets": [
  {
   "cells": [
    {
     "cell_type": "markdown",
     "metadata": {},
     "source": [
      "# Tricks collected from \n",
      "- [workshop](http://nbviewer.ipython.org/github/nealcaren/workshop_2014/tree/master/notebooks/)\n",
      "- [DGA (Dynamic Generation Algorithm) detection](http://nbviewer.ipython.org/github/ClickSecurity/data_hacking/blob/master/dga_detection/DGA_Domain_Detection.ipynb)"
     ]
    },
    {
     "cell_type": "markdown",
     "metadata": {},
     "source": [
      "## 1. Libraries for text and scraping\n",
      "1. requests (web scraping)\n",
      "2. mechanize (web scraping)\n",
      "3. BeautifulSoup (html cleaning)\n",
      "4. database (database interface for lazy ppl)\n",
      "5. chardet (char encoding detector)"
     ]
    },
    {
     "cell_type": "markdown",
     "metadata": {},
     "source": [
      "## 2. Discard non-ascii unicode in your text"
     ]
    },
    {
     "cell_type": "code",
     "collapsed": false,
     "input": [
      "import chardet # or use !file in POSIX\n",
      "s = \"hello world \u01e5ood day. Let`\u00c7hange the world!\"\n",
      "print chardet.detect(s)\n",
      "\n",
      "s ## s as bytes"
     ],
     "language": "python",
     "metadata": {},
     "outputs": [
      {
       "output_type": "stream",
       "stream": "stdout",
       "text": [
        "{'confidence': 0.7996636550693685, 'encoding': 'ISO-8859-2'}\n"
       ]
      },
      {
       "metadata": {},
       "output_type": "pyout",
       "prompt_number": 16,
       "text": [
        "'hello world \\xc7\\xa5ood day. Let`\\xc3\\x87hange the world!'"
       ]
      }
     ],
     "prompt_number": 16
    },
    {
     "cell_type": "code",
     "collapsed": false,
     "input": [
      "## decode the bytes using the suggested encoding\n",
      "## encode as ascii with error = 'ignore'\n",
      "clean_s = s.decode(\"ISO-8859-2\").encode(\"ascii\", \"ignore\")\n",
      "clean_s"
     ],
     "language": "python",
     "metadata": {},
     "outputs": [
      {
       "metadata": {},
       "output_type": "pyout",
       "prompt_number": 6,
       "text": [
        "'hello world ood day. Let`hange the world!'"
       ]
      }
     ],
     "prompt_number": 6
    },
    {
     "cell_type": "markdown",
     "metadata": {},
     "source": [
      "## 3. meaning of '?' in regular expression\n",
      "- it turns default greedy search into non-greedy mode\n",
      "- intutively '?' means search until it finds the FIRST ..."
     ]
    },
    {
     "cell_type": "code",
     "collapsed": false,
     "input": [
      "import re\n",
      "s = '<a href=\"http://www.google.com\">google</a>, <a href=\"http://yahoo.com\">Yahoo!</a>'\n",
      "print re.findall(r'<a href=\"(.*)\"', s)\n",
      "print\n",
      "print re.findall(r'<a href=\"(.*?)\"', s)"
     ],
     "language": "python",
     "metadata": {},
     "outputs": [
      {
       "output_type": "stream",
       "stream": "stdout",
       "text": [
        "['http://www.google.com\">google</a>, <a href=\"http://yahoo.com']\n",
        "\n",
        "['http://www.google.com', 'http://yahoo.com']\n"
       ]
      }
     ],
     "prompt_number": 15
    },
    {
     "cell_type": "markdown",
     "metadata": {},
     "source": [
      "## 4. DGA (dynamically generation algorithm) detection"
     ]
    },
    {
     "cell_type": "code",
     "collapsed": false,
     "input": [
      "%matplotlib inline\n",
      "import pylab as pl\n",
      "import pandas as pd\n",
      "import numpy as np\n",
      "\n",
      "import tldextract\n",
      "from sklearn.feature_extraction import text\n",
      "\n",
      "\n",
      "import warnings\n",
      "warnings.filterwarnings(action = 'ignore', category = DeprecationWarning )\n",
      "\n",
      "pl.rcParams[\"axes.grid\"] = True"
     ],
     "language": "python",
     "metadata": {},
     "outputs": [],
     "prompt_number": 35
    },
    {
     "cell_type": "code",
     "collapsed": false,
     "input": [
      "## alexa 100k domain list as the source of legit\n",
      "alexa_df = pd.read_csv('data/alexa_100k.csv', names=['rank', 'uri'], header=None)\n"
     ],
     "language": "python",
     "metadata": {},
     "outputs": [],
     "prompt_number": 55
    },
    {
     "cell_type": "code",
     "collapsed": false,
     "input": [
      "def extract_domain(uri):\n",
      "    import tldextract\n",
      "    import numpy as np\n",
      "    ext = tldextract.extract(uri.strip())\n",
      "    if not ext.suffix:\n",
      "        return np.nan\n",
      "    else:\n",
      "        return ext.domain\n",
      "%time alexa_df['domain'] = map(extract_domain, alexa_df.uri)\n",
      "alexa_df = alexa_df.dropna().drop_duplicates()\n",
      "alexa_df['type'] = 'legit'\n",
      "print alexa_df.shape"
     ],
     "language": "python",
     "metadata": {},
     "outputs": [
      {
       "output_type": "stream",
       "stream": "stdout",
       "text": [
        "CPU times: user 1.19 s, sys: 40 ms, total: 1.23 s\n",
        "Wall time: 1.17 s\n",
        "(99836, 4)"
       ]
      },
      {
       "output_type": "stream",
       "stream": "stdout",
       "text": [
        "\n"
       ]
      }
     ],
     "prompt_number": 71
    },
    {
     "cell_type": "code",
     "collapsed": false,
     "input": [
      "alexa_df.head()"
     ],
     "language": "python",
     "metadata": {},
     "outputs": [
      {
       "html": [
        "<div style=\"max-height:1000px;max-width:1500px;overflow:auto;\">\n",
        "<table border=\"1\" class=\"dataframe\">\n",
        "  <thead>\n",
        "    <tr style=\"text-align: right;\">\n",
        "      <th></th>\n",
        "      <th>rank</th>\n",
        "      <th>uri</th>\n",
        "      <th>domain</th>\n",
        "      <th>type</th>\n",
        "    </tr>\n",
        "  </thead>\n",
        "  <tbody>\n",
        "    <tr>\n",
        "      <th>0</th>\n",
        "      <td> 1</td>\n",
        "      <td> facebook.com</td>\n",
        "      <td> facebook</td>\n",
        "      <td> legit</td>\n",
        "    </tr>\n",
        "    <tr>\n",
        "      <th>1</th>\n",
        "      <td> 2</td>\n",
        "      <td>   google.com</td>\n",
        "      <td>   google</td>\n",
        "      <td> legit</td>\n",
        "    </tr>\n",
        "    <tr>\n",
        "      <th>2</th>\n",
        "      <td> 3</td>\n",
        "      <td>  youtube.com</td>\n",
        "      <td>  youtube</td>\n",
        "      <td> legit</td>\n",
        "    </tr>\n",
        "    <tr>\n",
        "      <th>3</th>\n",
        "      <td> 4</td>\n",
        "      <td>    yahoo.com</td>\n",
        "      <td>    yahoo</td>\n",
        "      <td> legit</td>\n",
        "    </tr>\n",
        "    <tr>\n",
        "      <th>4</th>\n",
        "      <td> 5</td>\n",
        "      <td>    baidu.com</td>\n",
        "      <td>    baidu</td>\n",
        "      <td> legit</td>\n",
        "    </tr>\n",
        "  </tbody>\n",
        "</table>\n",
        "<p>5 rows \u00d7 4 columns</p>\n",
        "</div>"
       ],
       "metadata": {},
       "output_type": "pyout",
       "prompt_number": 72,
       "text": [
        "   rank           uri    domain   type\n",
        "0     1  facebook.com  facebook  legit\n",
        "1     2    google.com    google  legit\n",
        "2     3   youtube.com   youtube  legit\n",
        "3     4     yahoo.com     yahoo  legit\n",
        "4     5     baidu.com     baidu  legit\n",
        "\n",
        "[5 rows x 4 columns]"
       ]
      }
     ],
     "prompt_number": 72
    },
    {
     "cell_type": "code",
     "collapsed": false,
     "input": [
      "dga_df = pd.read_csv('data/dga_domains.txt', names = ['raw_domain'], header = None, encoding='utf-8')\n",
      "dga_df['domain'] = map(lambda uri: uri.lower().split(\".\")[0].strip(), dga_df.raw_domain)\n",
      "dga_df['type'] = 'dga'\n",
      "dga_df = dga_df.dropna().drop_duplicates()\n",
      "\n",
      "print dga_df.shape"
     ],
     "language": "python",
     "metadata": {},
     "outputs": [
      {
       "output_type": "stream",
       "stream": "stdout",
       "text": [
        "(2669, 3)\n"
       ]
      }
     ],
     "prompt_number": 79
    },
    {
     "cell_type": "code",
     "collapsed": false,
     "input": [
      "dga_df.head()"
     ],
     "language": "python",
     "metadata": {},
     "outputs": [
      {
       "html": [
        "<div style=\"max-height:1000px;max-width:1500px;overflow:auto;\">\n",
        "<table border=\"1\" class=\"dataframe\">\n",
        "  <thead>\n",
        "    <tr style=\"text-align: right;\">\n",
        "      <th></th>\n",
        "      <th>raw_domain</th>\n",
        "      <th>domain</th>\n",
        "      <th>type</th>\n",
        "    </tr>\n",
        "  </thead>\n",
        "  <tbody>\n",
        "    <tr>\n",
        "      <th>0</th>\n",
        "      <td> 04055051be412eea5a61b7da8438be3d.info </td>\n",
        "      <td> 04055051be412eea5a61b7da8438be3d</td>\n",
        "      <td> dga</td>\n",
        "    </tr>\n",
        "    <tr>\n",
        "      <th>1</th>\n",
        "      <td>                       1cb8a5f36f.info </td>\n",
        "      <td>                       1cb8a5f36f</td>\n",
        "      <td> dga</td>\n",
        "    </tr>\n",
        "    <tr>\n",
        "      <th>2</th>\n",
        "      <td>  30acd347397c34fc273e996b22951002.org </td>\n",
        "      <td> 30acd347397c34fc273e996b22951002</td>\n",
        "      <td> dga</td>\n",
        "    </tr>\n",
        "    <tr>\n",
        "      <th>3</th>\n",
        "      <td>  336c986a284e2b3bc0f69f949cb437cb.info</td>\n",
        "      <td> 336c986a284e2b3bc0f69f949cb437cb</td>\n",
        "      <td> dga</td>\n",
        "    </tr>\n",
        "    <tr>\n",
        "      <th>4</th>\n",
        "      <td>  336c986a284e2b3bc0f69f949cb437cb.org </td>\n",
        "      <td> 336c986a284e2b3bc0f69f949cb437cb</td>\n",
        "      <td> dga</td>\n",
        "    </tr>\n",
        "  </tbody>\n",
        "</table>\n",
        "<p>5 rows \u00d7 3 columns</p>\n",
        "</div>"
       ],
       "metadata": {},
       "output_type": "pyout",
       "prompt_number": 80,
       "text": [
        "                               raw_domain                            domain  \\\n",
        "0  04055051be412eea5a61b7da8438be3d.info   04055051be412eea5a61b7da8438be3d   \n",
        "1                        1cb8a5f36f.info                         1cb8a5f36f   \n",
        "2   30acd347397c34fc273e996b22951002.org   30acd347397c34fc273e996b22951002   \n",
        "3   336c986a284e2b3bc0f69f949cb437cb.info  336c986a284e2b3bc0f69f949cb437cb   \n",
        "4   336c986a284e2b3bc0f69f949cb437cb.org   336c986a284e2b3bc0f69f949cb437cb   \n",
        "\n",
        "  type  \n",
        "0  dga  \n",
        "1  dga  \n",
        "2  dga  \n",
        "3  dga  \n",
        "4  dga  \n",
        "\n",
        "[5 rows x 3 columns]"
       ]
      }
     ],
     "prompt_number": 80
    },
    {
     "cell_type": "code",
     "collapsed": false,
     "input": [
      "## all domains\n",
      "all_domains = pd.concat([alexa_df.loc[:, [\"domain\", \"type\"]], \n",
      "                         dga_df.loc[:, [\"domain\", \"type\"]]], axis = 0, ignore_index = True)"
     ],
     "language": "python",
     "metadata": {},
     "outputs": [],
     "prompt_number": 86
    },
    {
     "cell_type": "code",
     "collapsed": false,
     "input": [],
     "language": "python",
     "metadata": {},
     "outputs": []
    }
   ],
   "metadata": {}
  }
 ]
}