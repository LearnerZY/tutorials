{
 "metadata": {
  "name": "",
  "signature": "sha256:d709df0550b736cb7c79f4dfd829b58282e08dec759a48481b11f648d3ad9d26"
 },
 "nbformat": 3,
 "nbformat_minor": 0,
 "worksheets": [
  {
   "cells": [
    {
     "cell_type": "markdown",
     "metadata": {},
     "source": [
      "## Review of Interesting IPython Notebooks\n",
      "\n",
      "- [URL](https://github.com/ipython/ipython/wiki/A-gallery-of-interesting-IPython-Notebooks#programming-and-computer-science)"
     ]
    },
    {
     "cell_type": "code",
     "collapsed": false,
     "input": [],
     "language": "python",
     "metadata": {},
     "outputs": []
    }
   ],
   "metadata": {}
  }
 ]
}