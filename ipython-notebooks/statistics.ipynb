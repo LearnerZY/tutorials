{
 "metadata": {
  "name": "",
  "signature": "sha256:3b3e54d686bec6c68a86e5ebc6212835523c11ef8591db89181071b79423a143"
 },
 "nbformat": 3,
 "nbformat_minor": 0,
 "worksheets": [
  {
   "cells": [
    {
     "cell_type": "code",
     "collapsed": false,
     "input": [
      "%matplotlib inline\n",
      "import pylab as pl\n",
      "\n",
      "import warnings\n",
      "warnings.filterwarnings(action = \"ignore\", category=DeprecationWarning)\n",
      "\n",
      "pl.xkcd()"
     ],
     "language": "python",
     "metadata": {},
     "outputs": [
      {
       "metadata": {},
       "output_type": "pyout",
       "prompt_number": 28,
       "text": [
        "<matplotlib.rc_context at 0x7f751b15c790>"
       ]
      }
     ],
     "prompt_number": 28
    },
    {
     "cell_type": "markdown",
     "metadata": {},
     "source": [
      "## t-test for comparison of sample means\n",
      "- [source](http://dataiap.github.io/dataiap/day3/hypothesis_testing.html)\n",
      "- steps: \n",
      "    1. get a hunch from plotting\n",
      "    2. use statistics to quantify the evidence backing the hunch"
     ]
    },
    {
     "cell_type": "code",
     "collapsed": false,
     "input": [
      "import numpy as np\n",
      "from scipy import stats\n",
      "\n",
      "## data comparing averages of heights from two twons\n",
      "town1_hts = [5, 6, 7, 6, 7.1, 6, 4]\n",
      "town2_hts = [5.5, 6.5, 7, 6, 7.1, 6]"
     ],
     "language": "python",
     "metadata": {},
     "outputs": [],
     "prompt_number": 3
    },
    {
     "cell_type": "code",
     "collapsed": false,
     "input": [
      "## plotting - use boxplot to show the difference between two samples\n",
      "fig, ax = pl.subplots(1, 1)\n",
      "_ = ax.boxplot([town1_hts, town2_hts])\n",
      "_ = ax.set_xticklabels([\"town1\", \"town2\"])\n",
      "_ = ax.set_ylim((3.5, 7.5))"
     ],
     "language": "python",
     "metadata": {},
     "outputs": [
      {
       "metadata": {},
       "output_type": "display_data",
       "png": "[encoded data removed]",
       "text": [
        "<matplotlib.figure.Figure at 0x7f751b0b1f90>"
       ]
      }
     ],
     "prompt_number": 29
    },
    {
     "cell_type": "markdown",
     "metadata": {},
     "source": [
      "** Observations: **\n",
      "1. since most statistic tests are based on a normal distribution assumption (e.g. t-test), we need to notice whether the population (or sample) is roughly normally distributed \n",
      "2. generally, if the boxes of each distribution overlap, and you haven't taken something on the order of a buttload (metric units) of measurements, you should doubt the differences in distribution averages, like in the case here\n",
      "3. however, the conclusions of the first two should consider the influcence of outliers, if any"
     ]
    },
    {
     "cell_type": "markdown",
     "metadata": {},
     "source": [
      "** Run a statistical test**\n",
      "- In statistics, what we are asking is whether differences we observed are reliable indicators of some trend or just happend by lucky chance.\n",
      "- Statisticans usually do this by comparing the sample statistics (effect size - the average difference in this case) with the standard error and use a model, e.g. a t-test to estiamte the probability of this happening by pure chance\n",
      "- Different flavors of t-test - paired or unpaired:\n",
      "    - Paired v.s. Unpaired\n",
      "        1. datasets are paired (also called dependent), e.g. when you measure the same set of itmes twice, usually before and after some change. \n",
      "        2. datasets are unpaired: e.g., random samples from differet/same populations\n",
      "    - Equal v.s. Unequal size: whether the sizes of the sets are the same\n",
      "    - Equal v.s. Unequal variances: whether the variance of the two samples under comparison are equal or not. If we made no assumption about the sizes of the datasets\n",
      "    - In this case, we are running an *unpaired, unequal size, unequal variance* test. That's **Welch's T-Test**"
     ]
    },
    {
     "cell_type": "code",
     "collapsed": false,
     "input": [
      "## scipy implemented paired/unpaired\n",
      "## scipy.stats.ttest_rel implements paired test\n",
      "## scipy.stats.ttest_ind implements unpaired test\n",
      "%pdef stats.ttest_rel\n",
      "%pdef stats.ttest_ind\n",
      "print \"Welch's T-test p-value\", stats.ttest_ind(town1_hts, town2_hts, equal_var=False, )[1]"
     ],
     "language": "python",
     "metadata": {},
     "outputs": [
      {
       "output_type": "stream",
       "stream": "stdout",
       "text": [
        " \u001b[0mstats\u001b[0m\u001b[1;33m.\u001b[0m\u001b[0mttest_rel\u001b[0m\u001b[1;33m(\u001b[0m\u001b[0ma\u001b[0m\u001b[1;33m,\u001b[0m \u001b[0mb\u001b[0m\u001b[1;33m,\u001b[0m \u001b[0maxis\u001b[0m\u001b[1;33m=\u001b[0m\u001b[1;36m0\u001b[0m\u001b[1;33m)\u001b[0m\u001b[1;33m\u001b[0m\u001b[0m\n",
        "  \u001b[0mstats\u001b[0m\u001b[1;33m.\u001b[0m\u001b[0mttest_ind\u001b[0m\u001b[1;33m(\u001b[0m\u001b[0ma\u001b[0m\u001b[1;33m,\u001b[0m \u001b[0mb\u001b[0m\u001b[1;33m,\u001b[0m \u001b[0maxis\u001b[0m\u001b[1;33m=\u001b[0m\u001b[1;36m0\u001b[0m\u001b[1;33m,\u001b[0m \u001b[0mequal_var\u001b[0m\u001b[1;33m=\u001b[0m\u001b[0mTrue\u001b[0m\u001b[1;33m)\u001b[0m\u001b[1;33m\u001b[0m\u001b[0m\n",
        " Welch's T-test p-value 0.347028503558\n"
       ]
      }
     ],
     "prompt_number": 32
    },
    {
     "cell_type": "markdown",
     "metadata": {},
     "source": [
      "**Check the assumption for t-test**\n",
      "- The big assumption for most t-test is that the data we used came from a normal distribution\n",
      "- SO, actually the thing we should do before the t-test is to check the normality of the data, which is implemneted as Shapiro-Wilk test"
     ]
    },
    {
     "cell_type": "code",
     "collapsed": false,
     "input": [
      "%pdef stats.shapiro\n",
      "print 'Town1 Shapiro-Wilks p-value', stats.shapiro(town1_hts)[1]\n",
      "print 'Town2 Shapiro-Wilks p-value', stats.shapiro(town2_hts)[1]"
     ],
     "language": "python",
     "metadata": {},
     "outputs": [
      {
       "output_type": "stream",
       "stream": "stdout",
       "text": [
        " \u001b[0mstats\u001b[0m\u001b[1;33m.\u001b[0m\u001b[0mshapiro\u001b[0m\u001b[1;33m(\u001b[0m\u001b[0mx\u001b[0m\u001b[1;33m,\u001b[0m \u001b[0ma\u001b[0m\u001b[1;33m=\u001b[0m\u001b[0mNone\u001b[0m\u001b[1;33m,\u001b[0m \u001b[0mreta\u001b[0m\u001b[1;33m=\u001b[0m\u001b[0mFalse\u001b[0m\u001b[1;33m)\u001b[0m\u001b[1;33m\u001b[0m\u001b[0m\n",
        " Town1 Shapiro-Wilks p-value 0.380458295345\n",
        "Town2 Shapiro-Wilks p-value 0.562481462955\n"
       ]
      }
     ],
     "prompt_number": 34
    },
    {
     "cell_type": "markdown",
     "metadata": {},
     "source": [
      "**But what if the data sets are NOT normally distributed**\n",
      "- simple answer: IT does NOT matter. t-tests are resilient to breaking of the normality assumption\n",
      "- less simple answer: use the **nonparametric** equivalents that don't make normality assumptions. But be aware, nonparametric methods generally need more data than parametric version.\n",
      "- the NONparametric version of Welch's t-test is Mann-Whiteney U test"
     ]
    },
    {
     "cell_type": "code",
     "collapsed": false,
     "input": [
      "%pdef stats.mannwhitneyu\n",
      "print 'Mann-Whitney U p-value', stats.mannwhitneyu(town1_hts, town2_hts, )[1]"
     ],
     "language": "python",
     "metadata": {},
     "outputs": [
      {
       "output_type": "stream",
       "stream": "stdout",
       "text": [
        " \u001b[0mstats\u001b[0m\u001b[1;33m.\u001b[0m\u001b[0mmannwhitneyu\u001b[0m\u001b[1;33m(\u001b[0m\u001b[0mx\u001b[0m\u001b[1;33m,\u001b[0m \u001b[0my\u001b[0m\u001b[1;33m,\u001b[0m \u001b[0muse_continuity\u001b[0m\u001b[1;33m=\u001b[0m\u001b[0mTrue\u001b[0m\u001b[1;33m)\u001b[0m\u001b[1;33m\u001b[0m\u001b[0m\n",
        " Mann-Whitney U p-value 0.253597522173\n"
       ]
      }
     ],
     "prompt_number": 35
    },
    {
     "cell_type": "code",
     "collapsed": false,
     "input": [],
     "language": "python",
     "metadata": {},
     "outputs": []
    }
   ],
   "metadata": {}
  }
 ]
}