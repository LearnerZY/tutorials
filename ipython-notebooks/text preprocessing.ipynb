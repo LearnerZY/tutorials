{
 "metadata": {
  "name": "",
  "signature": "sha256:02082d95c05463bb5c02f8c46a7e8ce45e036141d796fc900d42e53800a74ad5"
 },
 "nbformat": 3,
 "nbformat_minor": 0,
 "worksheets": [
  {
   "cells": [
    {
     "cell_type": "markdown",
     "metadata": {},
     "source": [
      "# Tricks collected from [workshop](http://nbviewer.ipython.org/github/nealcaren/workshop_2014/tree/master/notebooks/)"
     ]
    },
    {
     "cell_type": "markdown",
     "metadata": {},
     "source": [
      "## Libraries for text and scraping\n",
      "1. requests (web scraping)\n",
      "2. mechanize (web scraping)\n",
      "3. BeautifulSoup (html cleaning)\n",
      "4. database (database interface for lazy ppl)\n",
      "5. chardet (char encoding detector)"
     ]
    },
    {
     "cell_type": "markdown",
     "metadata": {},
     "source": [
      "## Discard non-ascii unicode in your text"
     ]
    },
    {
     "cell_type": "code",
     "collapsed": false,
     "input": [
      "import chardet\n",
      "s = \"hello world \u01e5ood day. Let`\u00c7hange the world!\"\n",
      "print chardet.detect(s)\n",
      "\n",
      "s ## s as bytes"
     ],
     "language": "python",
     "metadata": {},
     "outputs": [
      {
       "output_type": "stream",
       "stream": "stdout",
       "text": [
        "{'confidence': 0.7996636550693685, 'encoding': 'ISO-8859-2'}\n"
       ]
      },
      {
       "metadata": {},
       "output_type": "pyout",
       "prompt_number": 4,
       "text": [
        "'hello world \\xc7\\xa5ood day. Let`\\xc3\\x87hange the world!'"
       ]
      }
     ],
     "prompt_number": 4
    },
    {
     "cell_type": "code",
     "collapsed": false,
     "input": [
      "## decode the bytes using the suggested encoding\n",
      "## encode as ascii with error = 'ignore'\n",
      "clean_s = s.decode(\"ISO-8859-2\").encode(\"ascii\", \"ignore\")\n",
      "clean_s"
     ],
     "language": "python",
     "metadata": {},
     "outputs": [
      {
       "metadata": {},
       "output_type": "pyout",
       "prompt_number": 6,
       "text": [
        "'hello world ood day. Let`hange the world!'"
       ]
      }
     ],
     "prompt_number": 6
    },
    {
     "cell_type": "markdown",
     "metadata": {},
     "source": [
      "## meaning of '?' in regular expression"
     ]
    },
    {
     "cell_type": "code",
     "collapsed": false,
     "input": [],
     "language": "python",
     "metadata": {},
     "outputs": []
    }
   ],
   "metadata": {}
  }
 ]
}