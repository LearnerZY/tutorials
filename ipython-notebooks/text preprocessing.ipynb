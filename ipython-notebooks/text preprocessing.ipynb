{
 "metadata": {
  "name": "",
  "signature": "sha256:0ae8f2b10d9ac7e310131af2ebf507397abfa8c8949d986b8fd40f7fc174f57e"
 },
 "nbformat": 3,
 "nbformat_minor": 0,
 "worksheets": [
  {
   "cells": [
    {
     "cell_type": "markdown",
     "metadata": {},
     "source": [
      "# Tricks collected from \n",
      "- [workshop](http://nbviewer.ipython.org/github/nealcaren/workshop_2014/tree/master/notebooks/)\n",
      "- [DGA (Dynamic Generation Algorithm) detection](http://nbviewer.ipython.org/github/ClickSecurity/data_hacking/blob/master/dga_detection/DGA_Domain_Detection.ipynb)"
     ]
    },
    {
     "cell_type": "markdown",
     "metadata": {},
     "source": [
      "## 1. Libraries for text and scraping\n",
      "1. requests (web scraping)\n",
      "2. mechanize (web scraping)\n",
      "3. BeautifulSoup (html cleaning)\n",
      "4. database (database interface for lazy ppl)\n",
      "5. chardet (char encoding detector)"
     ]
    },
    {
     "cell_type": "markdown",
     "metadata": {},
     "source": [
      "## 2. Discard non-ascii unicode in your text"
     ]
    },
    {
     "cell_type": "code",
     "collapsed": false,
     "input": [
      "import chardet # or use !file in POSIX\n",
      "s = \"hello world \u01e5ood day. Let`\u00c7hange the world!\"\n",
      "print chardet.detect(s)\n",
      "\n",
      "s ## s as bytes"
     ],
     "language": "python",
     "metadata": {},
     "outputs": [
      {
       "output_type": "stream",
       "stream": "stdout",
       "text": [
        "{'confidence': 0.7996636550693685, 'encoding': 'ISO-8859-2'}\n"
       ]
      },
      {
       "metadata": {},
       "output_type": "pyout",
       "prompt_number": 1,
       "text": [
        "'hello world \\xc7\\xa5ood day. Let`\\xc3\\x87hange the world!'"
       ]
      }
     ],
     "prompt_number": 1
    },
    {
     "cell_type": "code",
     "collapsed": false,
     "input": [
      "## decode the bytes using the suggested encoding\n",
      "## encode as ascii with error = 'ignore'\n",
      "clean_s = s.decode(\"ISO-8859-2\").encode(\"ascii\", \"ignore\")\n",
      "clean_s"
     ],
     "language": "python",
     "metadata": {},
     "outputs": [
      {
       "metadata": {},
       "output_type": "pyout",
       "prompt_number": 2,
       "text": [
        "'hello world ood day. Let`hange the world!'"
       ]
      }
     ],
     "prompt_number": 2
    },
    {
     "cell_type": "markdown",
     "metadata": {},
     "source": [
      "## 3. meaning of '?' in regular expression\n",
      "- it turns default greedy search into non-greedy mode\n",
      "- intutively '?' means search until it finds the FIRST ..."
     ]
    },
    {
     "cell_type": "code",
     "collapsed": false,
     "input": [
      "import re\n",
      "s = '<a href=\"http://www.google.com\">google</a>, <a href=\"http://yahoo.com\">Yahoo!</a>'\n",
      "print re.findall(r'<a href=\"(.*)\"', s)\n",
      "print\n",
      "print re.findall(r'<a href=\"(.*?)\"', s)"
     ],
     "language": "python",
     "metadata": {},
     "outputs": [
      {
       "output_type": "stream",
       "stream": "stdout",
       "text": [
        "['http://www.google.com\">google</a>, <a href=\"http://yahoo.com']\n",
        "\n",
        "['http://www.google.com', 'http://yahoo.com']\n"
       ]
      }
     ],
     "prompt_number": 3
    },
    {
     "cell_type": "markdown",
     "metadata": {},
     "source": [
      "## 4. DGA (dynamically generation algorithm) detection"
     ]
    },
    {
     "cell_type": "code",
     "collapsed": false,
     "input": [
      "%matplotlib inline\n",
      "import pylab as pl\n",
      "import pandas as pd\n",
      "import numpy as np\n",
      "\n",
      "import tldextract\n",
      "from sklearn.feature_extraction import text\n",
      "from IPython.display import HTML, display\n",
      "\n",
      "\n",
      "import warnings\n",
      "warnings.filterwarnings(action = 'ignore', category = DeprecationWarning )\n",
      "\n",
      "pl.rcParams[\"axes.grid\"] = True"
     ],
     "language": "python",
     "metadata": {},
     "outputs": [],
     "prompt_number": 18
    },
    {
     "cell_type": "code",
     "collapsed": false,
     "input": [
      "## alexa 100k domain list as the source of legit\n",
      "alexa_df = pd.read_csv('data/alexa_100k.csv', names=['rank', 'uri'], header=None)\n"
     ],
     "language": "python",
     "metadata": {},
     "outputs": [],
     "prompt_number": 5
    },
    {
     "cell_type": "code",
     "collapsed": false,
     "input": [
      "def extract_domain(uri):\n",
      "    import tldextract\n",
      "    import numpy as np\n",
      "    ext = tldextract.extract(uri.strip())\n",
      "    if not ext.suffix:\n",
      "        return np.nan\n",
      "    else:\n",
      "        return ext.domain\n",
      "%time alexa_df['domain'] = map(extract_domain, alexa_df.uri)\n",
      "alexa_df = alexa_df.dropna().drop_duplicates()\n",
      "alexa_df['type'] = 'legit'\n",
      "print alexa_df.shape"
     ],
     "language": "python",
     "metadata": {},
     "outputs": [
      {
       "output_type": "stream",
       "stream": "stdout",
       "text": [
        "CPU times: user 1.18 s, sys: 19.4 ms, total: 1.2 s\n",
        "Wall time: 1.18 s\n",
        "(99836, 4)"
       ]
      },
      {
       "output_type": "stream",
       "stream": "stdout",
       "text": [
        "\n"
       ]
      }
     ],
     "prompt_number": 10
    },
    {
     "cell_type": "code",
     "collapsed": false,
     "input": [
      "alexa_df.head()"
     ],
     "language": "python",
     "metadata": {},
     "outputs": [
      {
       "html": [
        "<div style=\"max-height:1000px;max-width:1500px;overflow:auto;\">\n",
        "<table border=\"1\" class=\"dataframe\">\n",
        "  <thead>\n",
        "    <tr style=\"text-align: right;\">\n",
        "      <th></th>\n",
        "      <th>rank</th>\n",
        "      <th>uri</th>\n",
        "      <th>domain</th>\n",
        "      <th>type</th>\n",
        "    </tr>\n",
        "  </thead>\n",
        "  <tbody>\n",
        "    <tr>\n",
        "      <th>0</th>\n",
        "      <td> 1</td>\n",
        "      <td> facebook.com</td>\n",
        "      <td> facebook</td>\n",
        "      <td> legit</td>\n",
        "    </tr>\n",
        "    <tr>\n",
        "      <th>1</th>\n",
        "      <td> 2</td>\n",
        "      <td>   google.com</td>\n",
        "      <td>   google</td>\n",
        "      <td> legit</td>\n",
        "    </tr>\n",
        "    <tr>\n",
        "      <th>2</th>\n",
        "      <td> 3</td>\n",
        "      <td>  youtube.com</td>\n",
        "      <td>  youtube</td>\n",
        "      <td> legit</td>\n",
        "    </tr>\n",
        "    <tr>\n",
        "      <th>3</th>\n",
        "      <td> 4</td>\n",
        "      <td>    yahoo.com</td>\n",
        "      <td>    yahoo</td>\n",
        "      <td> legit</td>\n",
        "    </tr>\n",
        "    <tr>\n",
        "      <th>4</th>\n",
        "      <td> 5</td>\n",
        "      <td>    baidu.com</td>\n",
        "      <td>    baidu</td>\n",
        "      <td> legit</td>\n",
        "    </tr>\n",
        "  </tbody>\n",
        "</table>\n",
        "<p>5 rows \u00d7 4 columns</p>\n",
        "</div>"
       ],
       "metadata": {},
       "output_type": "pyout",
       "prompt_number": 11,
       "text": [
        "   rank           uri    domain   type\n",
        "0     1  facebook.com  facebook  legit\n",
        "1     2    google.com    google  legit\n",
        "2     3   youtube.com   youtube  legit\n",
        "3     4     yahoo.com     yahoo  legit\n",
        "4     5     baidu.com     baidu  legit\n",
        "\n",
        "[5 rows x 4 columns]"
       ]
      }
     ],
     "prompt_number": 11
    },
    {
     "cell_type": "code",
     "collapsed": false,
     "input": [
      "dga_df = pd.read_csv('data/dga_domains.txt', names = ['raw_domain'], header = None, encoding='utf-8')\n",
      "dga_df['domain'] = map(lambda uri: uri.lower().split(\".\")[0].strip(), dga_df.raw_domain)\n",
      "dga_df['type'] = 'dga'\n",
      "dga_df = dga_df.dropna().drop_duplicates()\n",
      "\n",
      "print dga_df.shape"
     ],
     "language": "python",
     "metadata": {},
     "outputs": [
      {
       "output_type": "stream",
       "stream": "stdout",
       "text": [
        "(2669, 3)\n"
       ]
      }
     ],
     "prompt_number": 12
    },
    {
     "cell_type": "code",
     "collapsed": false,
     "input": [
      "dga_df.head()"
     ],
     "language": "python",
     "metadata": {},
     "outputs": [
      {
       "html": [
        "<div style=\"max-height:1000px;max-width:1500px;overflow:auto;\">\n",
        "<table border=\"1\" class=\"dataframe\">\n",
        "  <thead>\n",
        "    <tr style=\"text-align: right;\">\n",
        "      <th></th>\n",
        "      <th>raw_domain</th>\n",
        "      <th>domain</th>\n",
        "      <th>type</th>\n",
        "    </tr>\n",
        "  </thead>\n",
        "  <tbody>\n",
        "    <tr>\n",
        "      <th>0</th>\n",
        "      <td> 04055051be412eea5a61b7da8438be3d.info </td>\n",
        "      <td> 04055051be412eea5a61b7da8438be3d</td>\n",
        "      <td> dga</td>\n",
        "    </tr>\n",
        "    <tr>\n",
        "      <th>1</th>\n",
        "      <td>                       1cb8a5f36f.info </td>\n",
        "      <td>                       1cb8a5f36f</td>\n",
        "      <td> dga</td>\n",
        "    </tr>\n",
        "    <tr>\n",
        "      <th>2</th>\n",
        "      <td>  30acd347397c34fc273e996b22951002.org </td>\n",
        "      <td> 30acd347397c34fc273e996b22951002</td>\n",
        "      <td> dga</td>\n",
        "    </tr>\n",
        "    <tr>\n",
        "      <th>3</th>\n",
        "      <td>  336c986a284e2b3bc0f69f949cb437cb.info</td>\n",
        "      <td> 336c986a284e2b3bc0f69f949cb437cb</td>\n",
        "      <td> dga</td>\n",
        "    </tr>\n",
        "    <tr>\n",
        "      <th>4</th>\n",
        "      <td>  336c986a284e2b3bc0f69f949cb437cb.org </td>\n",
        "      <td> 336c986a284e2b3bc0f69f949cb437cb</td>\n",
        "      <td> dga</td>\n",
        "    </tr>\n",
        "  </tbody>\n",
        "</table>\n",
        "<p>5 rows \u00d7 3 columns</p>\n",
        "</div>"
       ],
       "metadata": {},
       "output_type": "pyout",
       "prompt_number": 13,
       "text": [
        "                               raw_domain                            domain  \\\n",
        "0  04055051be412eea5a61b7da8438be3d.info   04055051be412eea5a61b7da8438be3d   \n",
        "1                        1cb8a5f36f.info                         1cb8a5f36f   \n",
        "2   30acd347397c34fc273e996b22951002.org   30acd347397c34fc273e996b22951002   \n",
        "3   336c986a284e2b3bc0f69f949cb437cb.info  336c986a284e2b3bc0f69f949cb437cb   \n",
        "4   336c986a284e2b3bc0f69f949cb437cb.org   336c986a284e2b3bc0f69f949cb437cb   \n",
        "\n",
        "  type  \n",
        "0  dga  \n",
        "1  dga  \n",
        "2  dga  \n",
        "3  dga  \n",
        "4  dga  \n",
        "\n",
        "[5 rows x 3 columns]"
       ]
      }
     ],
     "prompt_number": 13
    },
    {
     "cell_type": "code",
     "collapsed": false,
     "input": [
      "## all domains\n",
      "all_domains = pd.concat([alexa_df.loc[:, [\"domain\", \"type\"]], \n",
      "                         dga_df.loc[:, [\"domain\", \"type\"]]], axis = 0, ignore_index = True)\n",
      "all_domains = all_domains.drop_duplicates().dropna()\n",
      "all_domains = all_domains[all_domains.domain != \"\"]"
     ],
     "language": "python",
     "metadata": {},
     "outputs": [],
     "prompt_number": 40
    },
    {
     "cell_type": "code",
     "collapsed": false,
     "input": [
      "pd.concat([all_domains.head(n = 10), all_domains.tail(n = 10)], axis=0, )"
     ],
     "language": "python",
     "metadata": {},
     "outputs": [
      {
       "html": [
        "<div style=\"max-height:1000px;max-width:1500px;overflow:auto;\">\n",
        "<table border=\"1\" class=\"dataframe\">\n",
        "  <thead>\n",
        "    <tr style=\"text-align: right;\">\n",
        "      <th></th>\n",
        "      <th>domain</th>\n",
        "      <th>type</th>\n",
        "    </tr>\n",
        "  </thead>\n",
        "  <tbody>\n",
        "    <tr>\n",
        "      <th>0     </th>\n",
        "      <td>             facebook</td>\n",
        "      <td> legit</td>\n",
        "    </tr>\n",
        "    <tr>\n",
        "      <th>1     </th>\n",
        "      <td>               google</td>\n",
        "      <td> legit</td>\n",
        "    </tr>\n",
        "    <tr>\n",
        "      <th>2     </th>\n",
        "      <td>              youtube</td>\n",
        "      <td> legit</td>\n",
        "    </tr>\n",
        "    <tr>\n",
        "      <th>3     </th>\n",
        "      <td>                yahoo</td>\n",
        "      <td> legit</td>\n",
        "    </tr>\n",
        "    <tr>\n",
        "      <th>4     </th>\n",
        "      <td>                baidu</td>\n",
        "      <td> legit</td>\n",
        "    </tr>\n",
        "    <tr>\n",
        "      <th>5     </th>\n",
        "      <td>            wikipedia</td>\n",
        "      <td> legit</td>\n",
        "    </tr>\n",
        "    <tr>\n",
        "      <th>6     </th>\n",
        "      <td>               amazon</td>\n",
        "      <td> legit</td>\n",
        "    </tr>\n",
        "    <tr>\n",
        "      <th>7     </th>\n",
        "      <td>                 live</td>\n",
        "      <td> legit</td>\n",
        "    </tr>\n",
        "    <tr>\n",
        "      <th>8     </th>\n",
        "      <td>                   qq</td>\n",
        "      <td> legit</td>\n",
        "    </tr>\n",
        "    <tr>\n",
        "      <th>9     </th>\n",
        "      <td>               taobao</td>\n",
        "      <td> legit</td>\n",
        "    </tr>\n",
        "    <tr>\n",
        "      <th>102495</th>\n",
        "      <td>             xcfwwghb</td>\n",
        "      <td>   dga</td>\n",
        "    </tr>\n",
        "    <tr>\n",
        "      <th>102496</th>\n",
        "      <td> xcgqdfyrkgihlrmfmfib</td>\n",
        "      <td>   dga</td>\n",
        "    </tr>\n",
        "    <tr>\n",
        "      <th>102497</th>\n",
        "      <td>           xclqwzcfcx</td>\n",
        "      <td>   dga</td>\n",
        "    </tr>\n",
        "    <tr>\n",
        "      <th>102498</th>\n",
        "      <td>             xcpfxzuf</td>\n",
        "      <td>   dga</td>\n",
        "    </tr>\n",
        "    <tr>\n",
        "      <th>102499</th>\n",
        "      <td>             xcvxhxze</td>\n",
        "      <td>   dga</td>\n",
        "    </tr>\n",
        "    <tr>\n",
        "      <th>102500</th>\n",
        "      <td>             xdbrbsbm</td>\n",
        "      <td>   dga</td>\n",
        "    </tr>\n",
        "    <tr>\n",
        "      <th>102501</th>\n",
        "      <td>     xdfjryydcfwvkvui</td>\n",
        "      <td>   dga</td>\n",
        "    </tr>\n",
        "    <tr>\n",
        "      <th>102502</th>\n",
        "      <td>             xdjlvcgw</td>\n",
        "      <td>   dga</td>\n",
        "    </tr>\n",
        "    <tr>\n",
        "      <th>102503</th>\n",
        "      <td>              xdrmjeu</td>\n",
        "      <td>   dga</td>\n",
        "    </tr>\n",
        "    <tr>\n",
        "      <th>102504</th>\n",
        "      <td>     xflrjyyjswoatsoq</td>\n",
        "      <td>   dga</td>\n",
        "    </tr>\n",
        "  </tbody>\n",
        "</table>\n",
        "<p>20 rows \u00d7 2 columns</p>\n",
        "</div>"
       ],
       "metadata": {},
       "output_type": "pyout",
       "prompt_number": 41,
       "text": [
        "                      domain   type\n",
        "0                   facebook  legit\n",
        "1                     google  legit\n",
        "2                    youtube  legit\n",
        "3                      yahoo  legit\n",
        "4                      baidu  legit\n",
        "5                  wikipedia  legit\n",
        "6                     amazon  legit\n",
        "7                       live  legit\n",
        "8                         qq  legit\n",
        "9                     taobao  legit\n",
        "102495              xcfwwghb    dga\n",
        "102496  xcgqdfyrkgihlrmfmfib    dga\n",
        "102497            xclqwzcfcx    dga\n",
        "102498              xcpfxzuf    dga\n",
        "102499              xcvxhxze    dga\n",
        "102500              xdbrbsbm    dga\n",
        "102501      xdfjryydcfwvkvui    dga\n",
        "102502              xdjlvcgw    dga\n",
        "102503               xdrmjeu    dga\n",
        "102504      xflrjyyjswoatsoq    dga\n",
        "\n",
        "[20 rows x 2 columns]"
       ]
      }
     ],
     "prompt_number": 41
    },
    {
     "cell_type": "code",
     "collapsed": false,
     "input": [
      "## spot useful features \n",
      "## 1. length of words\n",
      "## 2. entropy of words\n",
      "## 3. bigrams? unigrams?\n",
      "\n",
      "from collections import Counter\n",
      "import math\n",
      "def entropy(word):\n",
      "    p, lns = Counter(word), float(len(word))\n",
      "    return -sum( count/lns * math.log(count/lns, 2) for count in p.values())\n",
      "\n",
      "all_domains['word_len'] = map(len, all_domains.domain)\n",
      "all_domains['word_ent'] = map(entropy, all_domains.domain)"
     ],
     "language": "python",
     "metadata": {},
     "outputs": [],
     "prompt_number": 47
    },
    {
     "cell_type": "code",
     "collapsed": false,
     "input": [
      "## NOT much distinguishing power\n",
      "all_domains.boxplot(column=\"word_len\", by = \"type\")\n",
      "all_domains.boxplot(column=\"word_ent\", by = \"type\")"
     ],
     "language": "python",
     "metadata": {},
     "outputs": [
      {
       "metadata": {},
       "output_type": "pyout",
       "prompt_number": 48,
       "text": [
        "<matplotlib.axes.AxesSubplot at 0x7ff502e70250>"
       ]
      },
      {
       "metadata": {},
       "output_type": "display_data",
       "png": "[encoded data removed]",
       "text": [
        "<matplotlib.figure.Figure at 0x7ff503bc7c10>"
       ]
      },
      {
       "metadata": {},
       "output_type": "display_data",
       "png": "[encoded data removed]",
       "text": [
        "<matplotlib.figure.Figure at 0x7ff502e70790>"
       ]
      }
     ],
     "prompt_number": 48
    },
    {
     "cell_type": "code",
     "collapsed": false,
     "input": [
      "## but how about joint features\n",
      "pl.figure(figsize=(10, 4))\n",
      "dga = all_domains[all_domains.type=='dga']\n",
      "alexa = all_domains[all_domains.type=='legit']\n",
      "pl.scatter(alexa.word_len, alexa.word_ent, s = 10, c=\"#aaaaff\", label = 'Alexa', alpha = .2)\n",
      "pl.scatter(dga.word_len, dga.word_ent, s = 40, c = 'r', label = 'DGA', alpha = .3)\n",
      "pl.legend(loc = 'best')\n",
      "pl.xlabel(\"domain length\")\n",
      "pl.ylabel(\"domain entropy\")"
     ],
     "language": "python",
     "metadata": {},
     "outputs": [
      {
       "metadata": {},
       "output_type": "pyout",
       "prompt_number": 62,
       "text": [
        "<matplotlib.text.Text at 0x7ff5006fa050>"
       ]
      },
      {
       "metadata": {},
       "output_type": "display_data",
       "png": "[encoded data removed]",
       "text": [
        "<matplotlib.figure.Figure at 0x7ff5023467d0>"
       ]
      }
     ],
     "prompt_number": 62
    },
    {
     "cell_type": "code",
     "collapsed": false,
     "input": [
      "## try these features with a model\n",
      "from sklearn import ensemble\n",
      "from sklearn import cross_validation\n",
      "from sklearn import metrics\n",
      "\n",
      "X = all_domains.as_matrix([\"word_len\", \"word_ent\"])\n",
      "y = np.asarray(all_domains.type)\n",
      "print X.shape, y.shape\n",
      "train_X, test_X, train_y, test_y = cross_validation.train_test_split(X, y, test_size = 0.3)\n",
      "print train_X.shape, train_y.shape\n",
      "print test_X.shape, test_y.shape\n",
      "\n",
      "model = ensemble.RandomForestClassifier(n_estimators=20)\n",
      "cv = cross_validation.KFold(train_X.shape[0], n_folds=10)\n",
      "[np.mean(model.fit(train_X[train_index, :], train_y[train_index]).predict(train_X[test_index, :])  == train_y[test_index])\n",
      " for train_index, test_index in cv]"
     ],
     "language": "python",
     "metadata": {},
     "outputs": [
      {
       "output_type": "stream",
       "stream": "stdout",
       "text": [
        "(94365, 2) (94365,)\n",
        "(66055, 2) (66055,)\n",
        "(28310, 2) (28310,)\n"
       ]
      },
      {
       "metadata": {},
       "output_type": "pyout",
       "prompt_number": 81,
       "text": [
        "[0.97532546170148349,\n",
        " 0.97683923705722076,\n",
        " 0.97547683923705719,\n",
        " 0.97653648198607323,\n",
        " 0.97608234937935212,\n",
        " 0.97350492051476156,\n",
        " 0.9742619227857684,\n",
        " 0.97683573050719152,\n",
        " 0.97441332323996976,\n",
        " 0.97638152914458742]"
       ]
      }
     ],
     "prompt_number": 81
    },
    {
     "cell_type": "code",
     "collapsed": false,
     "input": [
      "## but ... because the imbalanced distribution in the target\n",
      "## the baseline model will give 97% accuracy, IT IS NOT EXCITING AT a\n",
      "print np.mean(test_y == model.fit(train_X, train_y).predict(test_X))\n",
      "print np.mean(y == 'legit')"
     ],
     "language": "python",
     "metadata": {},
     "outputs": [
      {
       "output_type": "stream",
       "stream": "stdout",
       "text": [
        "0.976616036736\n",
        "0.971769194087\n"
       ]
      }
     ],
     "prompt_number": 87
    },
    {
     "cell_type": "code",
     "collapsed": false,
     "input": [],
     "language": "python",
     "metadata": {},
     "outputs": []
    }
   ],
   "metadata": {}
  }
 ]
}