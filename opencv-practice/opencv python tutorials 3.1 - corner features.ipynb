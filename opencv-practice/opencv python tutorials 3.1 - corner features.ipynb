{
 "metadata": {
  "name": "",
  "signature": "sha256:224eb8accbbb06c0fa8cfd7f33b0c307d041ac5cca22b7e5e5794adc1e279124"
 },
 "nbformat": 3,
 "nbformat_minor": 0,
 "worksheets": [
  {
   "cells": [
    {
     "cell_type": "code",
     "collapsed": false,
     "input": [
      "import cv2\n",
      "import numpy as np\n",
      "import matplotlib.pyplot as plt\n",
      "from skimage import io\n",
      "from numpy import fft\n",
      "\n",
      "from IPython.html import widgets\n",
      "\n",
      "%matplotlib inline"
     ],
     "language": "python",
     "metadata": {},
     "outputs": [],
     "prompt_number": 1
    },
    {
     "cell_type": "markdown",
     "metadata": {},
     "source": [
      "## Image Processing in OpenCV\n",
      "- [resource](http://docs.opencv.org/trunk/doc/py_tutorials/py_feature2d/py_table_of_contents_feature2d/py_table_of_contents_feature2d.html#py-table-of-content-feature2d)\n",
      "\n",
      "## Corner Features\n",
      "- SIFT\n",
      "- SURF\n",
      "- FAST\n",
      "- BRIEF\n",
      "- ORB"
     ]
    },
    {
     "cell_type": "code",
     "collapsed": false,
     "input": [],
     "language": "python",
     "metadata": {},
     "outputs": []
    }
   ],
   "metadata": {}
  }
 ]
}