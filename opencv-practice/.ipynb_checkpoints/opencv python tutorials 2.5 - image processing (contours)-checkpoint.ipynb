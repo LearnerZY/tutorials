{
 "metadata": {
  "name": "",
  "signature": "sha256:34938959c024874f49abb9b43d41d0cb7456131b1b4d0e5bb0272cf9c5d0c99a"
 },
 "nbformat": 3,
 "nbformat_minor": 0,
 "worksheets": [
  {
   "cells": [
    {
     "cell_type": "code",
     "collapsed": false,
     "input": [
      "import cv2\n",
      "import numpy as np\n",
      "import matplotlib.pyplot as plt\n",
      "from skimage import io\n",
      "\n",
      "from IPython.html import widgets\n",
      "\n",
      "%matplotlib inline"
     ],
     "language": "python",
     "metadata": {},
     "outputs": [],
     "prompt_number": 1
    },
    {
     "cell_type": "markdown",
     "metadata": {},
     "source": [
      "## Image Processing in OpenCV\n",
      "- [resource](http://docs.opencv.org/trunk/doc/py_tutorials/py_imgproc/py_table_of_contents_imgproc/py_table_of_contents_imgproc.html#py-table-of-content-imgproc)\n",
      "\n",
      "## Topic: Contours\n",
      "- finding & drawing contours\n",
      "- features from contours\n",
      "- measures & properties of contours\n",
      "- contour hierarchy"
     ]
    },
    {
     "cell_type": "markdown",
     "metadata": {},
     "source": [
      "### Finding & Drawing Contours\n",
      "\n",
      "- `cv2.findContours()` and `cv2.drawContours()`\n",
      "- **Contours can be explained simply as a curve joining all the continuous points (along the boundary), having same color or intensity.** The contours are a useful tool for shape analysis and object detection and recognition.\n",
      "- finding contours works the best with BINARY IMAGES"
     ]
    },
    {
     "cell_type": "code",
     "collapsed": false,
     "input": [],
     "language": "python",
     "metadata": {},
     "outputs": []
    }
   ],
   "metadata": {}
  }
 ]
}