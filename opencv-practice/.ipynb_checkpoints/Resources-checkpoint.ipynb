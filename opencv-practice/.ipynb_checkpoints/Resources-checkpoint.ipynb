{
 "metadata": {
  "name": "",
  "signature": "sha256:94f27cf39802741ab5416d6007ea7b1524621e329643a9bd0775f015f4b820af"
 },
 "nbformat": 3,
 "nbformat_minor": 0,
 "worksheets": [
  {
   "cells": [
    {
     "cell_type": "markdown",
     "metadata": {},
     "source": [
      "## Useful Online Articles\n",
      "- [pyimagesearch](http://www.pyimagesearch.com/)\n",
      "- [Software Ideas](http://dimitri-christodoulou.blogspot.sg/)\n",
      "- [yhat blog](http://blog.yhathq.com/)"
     ]
    },
    {
     "cell_type": "code",
     "collapsed": false,
     "input": [],
     "language": "python",
     "metadata": {},
     "outputs": []
    }
   ],
   "metadata": {}
  }
 ]
}