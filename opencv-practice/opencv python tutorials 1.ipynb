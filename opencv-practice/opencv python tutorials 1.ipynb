{
 "metadata": {
  "name": "",
  "signature": "sha256:2ad4c139374a5f7ead6be5bb5e87056b195df53991c583b00b1686b35851e15f"
 },
 "nbformat": 3,
 "nbformat_minor": 0,
 "worksheets": [
  {
   "cells": [
    {
     "cell_type": "markdown",
     "metadata": {},
     "source": [
      "[opencv-python tutorial](http://docs.opencv.org/trunk/doc/py_tutorials/py_tutorials.html) "
     ]
    },
    {
     "cell_type": "code",
     "collapsed": false,
     "input": [],
     "language": "python",
     "metadata": {},
     "outputs": []
    }
   ],
   "metadata": {}
  }
 ]
}